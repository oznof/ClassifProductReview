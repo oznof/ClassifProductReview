{
 "cells": [
  {
   "cell_type": "markdown",
   "metadata": {
    "id": "pEkUIzl6ybjk"
   },
   "source": [
    "Author: Afonso Eduardo\n",
    "\n",
    "**Goal:** Given an Amazon product reviews dataset, predict whether a review will be rated helpful by other users."
   ]
  },
  {
   "cell_type": "markdown",
   "metadata": {
    "id": "tQB8q7rKzPvg"
   },
   "source": [
    "## Exploratory Data Analysis"
   ]
  },
  {
   "cell_type": "markdown",
   "metadata": {
    "id": "ZnheGueQKQBD"
   },
   "source": [
    "### Data Prep"
   ]
  },
  {
   "cell_type": "code",
   "execution_count": 1,
   "metadata": {
    "colab": {
     "base_uri": "https://localhost:8080/"
    },
    "executionInfo": {
     "elapsed": 21303,
     "status": "ok",
     "timestamp": 1718373052715,
     "user": {
      "displayName": "Afonso",
      "userId": "05673892980624061652"
     },
     "user_tz": -60
    },
    "id": "kQmLkCZfye3P",
    "outputId": "827cdc73-ee7a-4533-cff4-19fb6767b416"
   },
   "outputs": [],
   "source": [
    "import numpy as np\n",
    "import pandas as pd\n",
    "import matplotlib.pyplot as plt\n",
    "import matplotlib.dates as mdates\n",
    "import seaborn as sns\n",
    "%matplotlib inline"
   ]
  },
  {
   "cell_type": "code",
   "execution_count": 2,
   "metadata": {
    "colab": {
     "base_uri": "https://localhost:8080/",
     "height": 398
    },
    "executionInfo": {
     "elapsed": 6146,
     "status": "ok",
     "timestamp": 1718373058857,
     "user": {
      "displayName": "Afonso",
      "userId": "05673892980624061652"
     },
     "user_tz": -60
    },
    "id": "3vY-h_KT0rSe",
    "outputId": "93cc5ad4-33ce-44a2-a9e5-f10b65c5d65d"
   },
   "outputs": [
    {
     "name": "stdout",
     "output_type": "stream",
     "text": [
      "Length of dataset: 278677\n"
     ]
    },
    {
     "data": {
      "text/html": [
       "<div>\n",
       "<style scoped>\n",
       "    .dataframe tbody tr th:only-of-type {\n",
       "        vertical-align: middle;\n",
       "    }\n",
       "\n",
       "    .dataframe tbody tr th {\n",
       "        vertical-align: top;\n",
       "    }\n",
       "\n",
       "    .dataframe thead th {\n",
       "        text-align: right;\n",
       "    }\n",
       "</style>\n",
       "<table border=\"1\" class=\"dataframe\">\n",
       "  <thead>\n",
       "    <tr style=\"text-align: right;\">\n",
       "      <th></th>\n",
       "      <th>asin</th>\n",
       "      <th>helpful</th>\n",
       "      <th>overall</th>\n",
       "      <th>reviewText</th>\n",
       "      <th>reviewTime</th>\n",
       "      <th>reviewerID</th>\n",
       "      <th>reviewerName</th>\n",
       "      <th>summary</th>\n",
       "      <th>unixReviewTime</th>\n",
       "    </tr>\n",
       "  </thead>\n",
       "  <tbody>\n",
       "    <tr>\n",
       "      <th>0</th>\n",
       "      <td>0000031887</td>\n",
       "      <td>[0, 0]</td>\n",
       "      <td>5</td>\n",
       "      <td>This is a great tutu and at a really great pri...</td>\n",
       "      <td>02 12, 2011</td>\n",
       "      <td>A1KLRMWW2FWPL4</td>\n",
       "      <td>Amazon Customer \"cameramom\"</td>\n",
       "      <td>Great tutu-  not cheaply made</td>\n",
       "      <td>1297468800</td>\n",
       "    </tr>\n",
       "    <tr>\n",
       "      <th>1</th>\n",
       "      <td>0000031887</td>\n",
       "      <td>[0, 0]</td>\n",
       "      <td>5</td>\n",
       "      <td>I bought this for my 4 yr old daughter for dan...</td>\n",
       "      <td>01 19, 2013</td>\n",
       "      <td>A2G5TCU2WDFZ65</td>\n",
       "      <td>Amazon Customer</td>\n",
       "      <td>Very Cute!!</td>\n",
       "      <td>1358553600</td>\n",
       "    </tr>\n",
       "    <tr>\n",
       "      <th>2</th>\n",
       "      <td>0000031887</td>\n",
       "      <td>[0, 0]</td>\n",
       "      <td>5</td>\n",
       "      <td>What can I say... my daughters have it in oran...</td>\n",
       "      <td>01 4, 2013</td>\n",
       "      <td>A1RLQXYNCMWRWN</td>\n",
       "      <td>Carola</td>\n",
       "      <td>I have buy more than one</td>\n",
       "      <td>1357257600</td>\n",
       "    </tr>\n",
       "    <tr>\n",
       "      <th>3</th>\n",
       "      <td>0000031887</td>\n",
       "      <td>[0, 0]</td>\n",
       "      <td>5</td>\n",
       "      <td>We bought several tutus at once, and they are ...</td>\n",
       "      <td>04 27, 2014</td>\n",
       "      <td>A8U3FAMSJVHS5</td>\n",
       "      <td>Caromcg</td>\n",
       "      <td>Adorable, Sturdy</td>\n",
       "      <td>1398556800</td>\n",
       "    </tr>\n",
       "    <tr>\n",
       "      <th>4</th>\n",
       "      <td>0000031887</td>\n",
       "      <td>[0, 0]</td>\n",
       "      <td>5</td>\n",
       "      <td>Thank you Halo Heaven great product for Little...</td>\n",
       "      <td>03 15, 2014</td>\n",
       "      <td>A3GEOILWLK86XM</td>\n",
       "      <td>CJ</td>\n",
       "      <td>Grammy's Angels Love it</td>\n",
       "      <td>1394841600</td>\n",
       "    </tr>\n",
       "  </tbody>\n",
       "</table>\n",
       "</div>"
      ],
      "text/plain": [
       "         asin helpful  overall  \\\n",
       "0  0000031887  [0, 0]        5   \n",
       "1  0000031887  [0, 0]        5   \n",
       "2  0000031887  [0, 0]        5   \n",
       "3  0000031887  [0, 0]        5   \n",
       "4  0000031887  [0, 0]        5   \n",
       "\n",
       "                                          reviewText   reviewTime  \\\n",
       "0  This is a great tutu and at a really great pri...  02 12, 2011   \n",
       "1  I bought this for my 4 yr old daughter for dan...  01 19, 2013   \n",
       "2  What can I say... my daughters have it in oran...   01 4, 2013   \n",
       "3  We bought several tutus at once, and they are ...  04 27, 2014   \n",
       "4  Thank you Halo Heaven great product for Little...  03 15, 2014   \n",
       "\n",
       "       reviewerID                 reviewerName                        summary  \\\n",
       "0  A1KLRMWW2FWPL4  Amazon Customer \"cameramom\"  Great tutu-  not cheaply made   \n",
       "1  A2G5TCU2WDFZ65              Amazon Customer                    Very Cute!!   \n",
       "2  A1RLQXYNCMWRWN                       Carola       I have buy more than one   \n",
       "3   A8U3FAMSJVHS5                      Caromcg               Adorable, Sturdy   \n",
       "4  A3GEOILWLK86XM                           CJ        Grammy's Angels Love it   \n",
       "\n",
       "   unixReviewTime  \n",
       "0      1297468800  \n",
       "1      1358553600  \n",
       "2      1357257600  \n",
       "3      1398556800  \n",
       "4      1394841600  "
      ]
     },
     "execution_count": 2,
     "metadata": {},
     "output_type": "execute_result"
    }
   ],
   "source": [
    "# Load the dataset and display contents\n",
    "data = pd.read_csv(\"Clothing_Shoes_and_Jewelry_5.csv\")\n",
    "len_data = len(data)\n",
    "print(f\"Length of dataset: {len_data}\")\n",
    "data.head()"
   ]
  },
  {
   "cell_type": "code",
   "execution_count": 3,
   "metadata": {
    "colab": {
     "base_uri": "https://localhost:8080/"
    },
    "executionInfo": {
     "elapsed": 2586,
     "status": "ok",
     "timestamp": 1718373074239,
     "user": {
      "displayName": "Afonso",
      "userId": "05673892980624061652"
     },
     "user_tz": -60
    },
    "id": "d1WpiNC-6u7w",
    "outputId": "85d0ba60-c312-41ec-b017-d3b65339642f"
   },
   "outputs": [
    {
     "name": "stdout",
     "output_type": "stream",
     "text": [
      "The reviews are from 2003-03-29 to 2014-07-23.\n",
      "Removed 152 duplicates (and nan). Length of new dataset: 278525.\n"
     ]
    }
   ],
   "source": [
    "# Convert the 'reviewTime' column to datetime format\n",
    "data['reviewTime'] = pd.to_datetime(data['reviewTime'], format='%m %d, %Y')\n",
    "# Sort the dataset by 'reviewTime'\n",
    "data = data.sort_values(by='reviewTime')\n",
    "# Drop duplicate and nan reviews to avoid spam messages\n",
    "data = data.dropna(subset=['reviewText'])\n",
    "data_unique = data.drop_duplicates('reviewText').reset_index(drop=True)\n",
    "len_data_unique = len(data_unique)\n",
    "print(f\"The reviews are from {data_unique.loc[0, 'reviewTime'].date()}\"\n",
    "      f\" to {data_unique.loc[data_unique.index[-1], 'reviewTime'].date()}.\")\n",
    "print(f\"Removed {len_data - len_data_unique} duplicates (and nan).\"\n",
    "      f\" Length of new dataset: {len_data_unique}.\")"
   ]
  },
  {
   "cell_type": "code",
   "execution_count": 4,
   "metadata": {
    "executionInfo": {
     "elapsed": 2425,
     "status": "ok",
     "timestamp": 1718373076661,
     "user": {
      "displayName": "Afonso",
      "userId": "05673892980624061652"
     },
     "user_tz": -60
    },
    "id": "cGms3XS-1cDB"
   },
   "outputs": [],
   "source": [
    "# Separate the 'helpful' column into two integer columns 'helpfulVotes'\n",
    "# and 'totalVotes'\n",
    "data_unique[['helpfulVotes', 'totalVotes']] = data_unique['helpful'].str.strip('[]').str.split(', ', expand=True).astype(int)\n",
    "# Calculate unhelpful votes\n",
    "data_unique['unhelpfulVotes'] = data_unique['totalVotes'] - data_unique['helpfulVotes']\n",
    "# Define 'helpfulness' as the difference between helpful votes and unhelpful votes\n",
    "data_unique['helpfulness'] = data_unique['helpfulVotes'] - data_unique['unhelpfulVotes']\n",
    "# Define 'isHelpful' as positive helpfulness\n",
    "data_unique['isHelpful'] = (data_unique['helpfulness'] > 0).astype(int)"
   ]
  },
  {
   "cell_type": "code",
   "execution_count": 5,
   "metadata": {
    "colab": {
     "base_uri": "https://localhost:8080/",
     "height": 575
    },
    "executionInfo": {
     "elapsed": 1558,
     "status": "ok",
     "timestamp": 1718373078216,
     "user": {
      "displayName": "Afonso",
      "userId": "05673892980624061652"
     },
     "user_tz": -60
    },
    "id": "3c81PsvF1csI",
    "outputId": "9a33d31a-beb0-473f-9305-8b1e41a9ab8a"
   },
   "outputs": [
    {
     "name": "stdout",
     "output_type": "stream",
     "text": [
      "count    278525.000000\n",
      "mean          0.945678\n",
      "std           6.234927\n",
      "min        -241.000000\n",
      "25%           0.000000\n",
      "50%           0.000000\n",
      "75%           0.000000\n",
      "max        1133.000000\n",
      "Name: helpfulness, dtype: float64\n"
     ]
    },
    {
     "data": {
      "image/png": "[encoded data removed]",
      "text/plain": [
       "<Figure size 600x400 with 1 Axes>"
      ]
     },
     "metadata": {},
     "output_type": "display_data"
    }
   ],
   "source": [
    "# Display summary stats of 'helpfulness'\n",
    "print(data_unique.helpfulness.describe())\n",
    "# Plot the respective histogram\n",
    "plt.figure(figsize=(6, 4))\n",
    "plt.hist(data_unique['helpfulness'], bins=100, color='skyblue', edgecolor='black')\n",
    "plt.title('Histogram of Helpfulness')\n",
    "plt.xlabel('Helpfulness')\n",
    "plt.ylabel('Frequency')\n",
    "plt.grid(True)"
   ]
  },
  {
   "cell_type": "markdown",
   "metadata": {
    "id": "XHcPoyjkJS7b"
   },
   "source": [
    "The majority of reviews are not deemed helpful, receiving a score of 0.\n",
    "Among the reviews that are helpful, most receive a relatively low number of votes."
   ]
  },
  {
   "cell_type": "markdown",
   "metadata": {
    "id": "zmQYbMs1Kwkv"
   },
   "source": [
    "### Correlations with Helpfulness"
   ]
  },
  {
   "cell_type": "code",
   "execution_count": 6,
   "metadata": {
    "colab": {
     "base_uri": "https://localhost:8080/",
     "height": 563
    },
    "executionInfo": {
     "elapsed": 1006,
     "status": "ok",
     "timestamp": 1718373082701,
     "user": {
      "displayName": "Afonso",
      "userId": "05673892980624061652"
     },
     "user_tz": -60
    },
    "id": "5-wSFu8VK3a1",
    "outputId": "3021e331-067d-4033-b2f4-9cdbba9790df"
   },
   "outputs": [
    {
     "data": {
      "text/plain": [
       "Text(0.5, 1.0, 'Correlation Matrix')"
      ]
     },
     "execution_count": 6,
     "metadata": {},
     "output_type": "execute_result"
    },
    {
     "data": {
      "image/png": "[encoded data removed]",
      "text/plain": [
       "<Figure size 800x600 with 2 Axes>"
      ]
     },
     "metadata": {},
     "output_type": "display_data"
    }
   ],
   "source": [
    "# Compute review text length\n",
    "data_unique['reviewTextLength'] = data_unique['reviewText'].apply(len)\n",
    "# Determine if a reviewer is in the top 1% of most reviews written\n",
    "reviewer_counts = data_unique['reviewerID'].value_counts()\n",
    "threshold = reviewer_counts.quantile(0.99)\n",
    "top_1_percent_reviewers = reviewer_counts[reviewer_counts >= threshold].index\n",
    "data_unique['isTopReviewer'] = data_unique.reviewerID.isin(top_1_percent_reviewers).astype(int)\n",
    "# Compute and plot correlations\n",
    "correlation_matrix = data_unique[['helpfulness', 'overall', 'reviewTextLength', 'isTopReviewer']].corr()\n",
    "plt.figure(figsize=(8, 6))\n",
    "sns.heatmap(correlation_matrix, annot=True, cmap='coolwarm', vmin=-1, vmax=1, cbar=True)\n",
    "plt.title('Correlation Matrix')"
   ]
  },
  {
   "cell_type": "markdown",
   "metadata": {
    "id": "OsTta6vuS4sW"
   },
   "source": [
    "There is a slight positive correlation between helpfulness and overall product rating, indicating that it is possible to find helpful reviews even for low-rated products. Additionally, helpfulness shows a positive correlation with both the length of the review text and the status of being a top reviewer, with the correlation being stronger for review text length."
   ]
  },
  {
   "cell_type": "code",
   "execution_count": 7,
   "metadata": {
    "colab": {
     "base_uri": "https://localhost:8080/"
    },
    "executionInfo": {
     "elapsed": 254,
     "status": "ok",
     "timestamp": 1718373087506,
     "user": {
      "displayName": "Afonso",
      "userId": "05673892980624061652"
     },
     "user_tz": -60
    },
    "id": "EwoDbmzPjBPJ",
    "outputId": "910ab89d-c1b3-4bb3-862a-519d40e22113"
   },
   "outputs": [
    {
     "data": {
      "text/plain": [
       "count    278525.000000\n",
       "mean        315.403238\n",
       "std         330.711299\n",
       "min           2.000000\n",
       "25%         139.000000\n",
       "50%         213.000000\n",
       "75%         366.000000\n",
       "max       22646.000000\n",
       "Name: reviewTextLength, dtype: float64"
      ]
     },
     "execution_count": 7,
     "metadata": {},
     "output_type": "execute_result"
    }
   ],
   "source": [
    "# Summary stats of text length\n",
    "data_unique['reviewTextLength'].describe()"
   ]
  },
  {
   "cell_type": "markdown",
   "metadata": {
    "id": "GFi29_0JkRr7"
   },
   "source": [
    "The median review contains 213 characters. However, lengthy reviews, reaching up to 22646 characters, pull the mean up to 315 characters."
   ]
  },
  {
   "cell_type": "markdown",
   "metadata": {
    "id": "-ZZn_vVMUigb"
   },
   "source": [
    "### Most Helpful Reviewers"
   ]
  },
  {
   "cell_type": "code",
   "execution_count": 8,
   "metadata": {
    "colab": {
     "base_uri": "https://localhost:8080/",
     "height": 153
    },
    "executionInfo": {
     "elapsed": 280,
     "status": "ok",
     "timestamp": 1718373091723,
     "user": {
      "displayName": "Afonso",
      "userId": "05673892980624061652"
     },
     "user_tz": -60
    },
    "id": "6q43qfQbQ1Np",
    "outputId": "11c26ab7-a0b2-4851-f2ee-0d1d7b8b7cb9"
   },
   "outputs": [
    {
     "data": {
      "text/html": [
       "<div>\n",
       "<style scoped>\n",
       "    .dataframe tbody tr th:only-of-type {\n",
       "        vertical-align: middle;\n",
       "    }\n",
       "\n",
       "    .dataframe tbody tr th {\n",
       "        vertical-align: top;\n",
       "    }\n",
       "\n",
       "    .dataframe thead th {\n",
       "        text-align: right;\n",
       "    }\n",
       "</style>\n",
       "<table border=\"1\" class=\"dataframe\">\n",
       "  <thead>\n",
       "    <tr style=\"text-align: right;\">\n",
       "      <th></th>\n",
       "      <th>asin</th>\n",
       "      <th>helpful</th>\n",
       "      <th>overall</th>\n",
       "      <th>reviewText</th>\n",
       "      <th>reviewTime</th>\n",
       "      <th>reviewerID</th>\n",
       "      <th>reviewerName</th>\n",
       "      <th>summary</th>\n",
       "      <th>unixReviewTime</th>\n",
       "      <th>helpfulVotes</th>\n",
       "      <th>totalVotes</th>\n",
       "      <th>unhelpfulVotes</th>\n",
       "      <th>helpfulness</th>\n",
       "      <th>isHelpful</th>\n",
       "      <th>reviewTextLength</th>\n",
       "      <th>isTopReviewer</th>\n",
       "    </tr>\n",
       "  </thead>\n",
       "  <tbody>\n",
       "    <tr>\n",
       "      <th>11252</th>\n",
       "      <td>B003G4IM4S</td>\n",
       "      <td>[1200, 1267]</td>\n",
       "      <td>5</td>\n",
       "      <td>I spotted this after viewing some fun items li...</td>\n",
       "      <td>2011-08-12</td>\n",
       "      <td>A1DDZAE5NREK1O</td>\n",
       "      <td>Cypress Green \"She Who Has a Book in Hand Eve...</td>\n",
       "      <td>An Actual Review...With Actual Description!</td>\n",
       "      <td>1313107200</td>\n",
       "      <td>1200</td>\n",
       "      <td>1267</td>\n",
       "      <td>67</td>\n",
       "      <td>1133</td>\n",
       "      <td>1</td>\n",
       "      <td>2333</td>\n",
       "      <td>0</td>\n",
       "    </tr>\n",
       "  </tbody>\n",
       "</table>\n",
       "</div>"
      ],
      "text/plain": [
       "             asin       helpful  overall  \\\n",
       "11252  B003G4IM4S  [1200, 1267]        5   \n",
       "\n",
       "                                              reviewText reviewTime  \\\n",
       "11252  I spotted this after viewing some fun items li... 2011-08-12   \n",
       "\n",
       "           reviewerID                                      reviewerName  \\\n",
       "11252  A1DDZAE5NREK1O  Cypress Green \"She Who Has a Book in Hand Eve...   \n",
       "\n",
       "                                           summary  unixReviewTime  \\\n",
       "11252  An Actual Review...With Actual Description!      1313107200   \n",
       "\n",
       "       helpfulVotes  totalVotes  unhelpfulVotes  helpfulness  isHelpful  \\\n",
       "11252          1200        1267              67         1133          1   \n",
       "\n",
       "       reviewTextLength  isTopReviewer  \n",
       "11252              2333              0  "
      ]
     },
     "execution_count": 8,
     "metadata": {},
     "output_type": "execute_result"
    }
   ],
   "source": [
    "# Review with maximum helpfulness by Cypress Green (not a TopReviewer)\n",
    "maxHelpfulnessReview = data_unique[data_unique[\"helpfulness\"] == data_unique[\"helpfulness\"].max()]\n",
    "maxHelpfulnessReview"
   ]
  },
  {
   "cell_type": "code",
   "execution_count": 9,
   "metadata": {
    "colab": {
     "base_uri": "https://localhost:8080/"
    },
    "executionInfo": {
     "elapsed": 277,
     "status": "ok",
     "timestamp": 1718373095234,
     "user": {
      "displayName": "Afonso",
      "userId": "05673892980624061652"
     },
     "user_tz": -60
    },
    "id": "eKumJoKTNiPO",
    "outputId": "c59438d4-e265-4107-b4a7-0c4dc8aa9422"
   },
   "outputs": [
    {
     "data": {
      "text/plain": [
       "11252    I spotted this after viewing some fun items likeUranium OreandCanned Unicorn Meat. After hearing just how much fun people have with a horse mask, I knew I had to have one! Especially after I searched the web and found a picture of a guy wearing this with hooded jacket...that was especially freaky!I got this one (alas, only available at outside sites right now) because it seems to be the most realistic looking, plus has that all-important disturbing feel.1.  Heavy duty materials.2.  Has a slit up the back for easy donning and removal. Slit is barely visible as there's \"mane hair\" on both sides of it.  Image of this added.3.  How do you see? Through the horse's mouth and the nose holes. Nothing mars the look of those creepy eyes! It is easy to see out while wearing.4.  Has a \"real\" bushy hair mane. I had to look closely at the other parts because I could have sworn it had a fine dusting of hair all over. No, it's just extremely realistic looking!I already used it on the dogs.  The big one knew it was a joke, but the little one kept backing off and I chased her around the house!Come October, I may get theMesh Easy Feeder, fill it with large treats like Twinkies, and wear them around together. That feed bag seems to be the vest priced for that purpose.edit: Have had the mask &lt; 1 week.  Scared the hubby while he was in the shower (he didn't know I had it). The big dog thinks it's funny. The small dog is creeped out by it. She goes on the attack if hubby puts the mask on his hand, moves the mouth open and shut, and corners her! Scared the nurses and therapist at work. Then put on a hospital gown and the mask, sat in an exam room - nurse brought my boss in.  She told him a patient was being a \"horse's ass\" and demanded to see whoever was in charge. Scared the lady at the diet center. Knocked on my ex's door with it on. \"I'm Heeeeeere to pick up my son!\" This mask is worth every dollar!Edit: 2013.....I don't know what happened to all the customer photos.  :(  I had a new one. I wore the mask to the dentist's office and they laughed their butts off! I was sitting in the chair wearing the mask when the dentist came in. She got such a kick out of it that she took pictures of her looking in my mouth. Then she went to her office and gave me a real horse tooth given her by a horse vet friend. Priceless!\n",
       "Name: reviewText, dtype: object"
      ]
     },
     "execution_count": 9,
     "metadata": {},
     "output_type": "execute_result"
    }
   ],
   "source": [
    "pd.options.display.max_colwidth = 5000\n",
    "maxHelpfulnessReview['reviewText']"
   ]
  },
  {
   "cell_type": "markdown",
   "metadata": {
    "id": "UCIjl8mirT8_"
   },
   "source": [
    "The review is a detailed, with over 2300 characters, and humorous account of the reviewer's experience with a horse mask. The reviewer initially discovered the mask while browsing for quirky items and was compelled to buy it after seeing amusing pictures online. They highlight several features of the mask. The reviewer also shares various entertaining incidents involving the mask, such as scaring their pets, husband and coworkers. Overall, the reviewer finds the mask worth every dollar, citing its high-quality construction and the fun it brings."
   ]
  },
  {
   "cell_type": "code",
   "execution_count": 10,
   "metadata": {
    "colab": {
     "base_uri": "https://localhost:8080/"
    },
    "executionInfo": {
     "elapsed": 613,
     "status": "ok",
     "timestamp": 1718373099970,
     "user": {
      "displayName": "Afonso",
      "userId": "05673892980624061652"
     },
     "user_tz": -60
    },
    "id": "vls-23NYqflD",
    "outputId": "4360ab19-dc8b-43d7-ed1d-4f49ad3982c0"
   },
   "outputs": [
    {
     "name": "stdout",
     "output_type": "stream",
     "text": [
      "Matthew G. Sherwin with ID A2R6RA8FRBS608 wrote 45 helpful reviews.\n",
      "         overall  helpfulness  reviewTextLength\n",
      "count  45.000000    45.000000         45.000000\n",
      "mean    4.844444    20.244444       1339.933333\n",
      "std     0.424026    22.643638        348.255940\n",
      "min     3.000000     1.000000        442.000000\n",
      "25%     5.000000     3.000000       1181.000000\n",
      "50%     5.000000    15.000000       1360.000000\n",
      "75%     5.000000    25.000000       1470.000000\n",
      "max     5.000000   111.000000       2067.000000\n",
      "\n",
      "Kelli \"Kelli K\" with ID A2KBV88FL48CFS wrote 45 helpful reviews.\n",
      "         overall  helpfulness  reviewTextLength\n",
      "count  45.000000    45.000000         45.000000\n",
      "mean    4.711111     6.377778        569.888889\n",
      "std     0.626034     6.379259        277.311625\n",
      "min     3.000000     1.000000        123.000000\n",
      "25%     5.000000     2.000000        387.000000\n",
      "50%     5.000000     4.000000        542.000000\n",
      "75%     5.000000     9.000000        635.000000\n",
      "max     5.000000    30.000000       1341.000000\n",
      "\n",
      "Candy Cane \"Is it just me?\" with ID A34BZM6S9L7QI4 wrote 39 helpful reviews.\n",
      "         overall  helpfulness  reviewTextLength\n",
      "count  39.000000    39.000000         39.000000\n",
      "mean    4.692308     5.974359        600.871795\n",
      "std     0.694105     8.502282        368.972484\n",
      "min     2.000000     1.000000        125.000000\n",
      "25%     5.000000     1.000000        290.500000\n",
      "50%     5.000000     2.000000        531.000000\n",
      "75%     5.000000     6.500000        820.000000\n",
      "max     5.000000    40.000000       1431.000000\n",
      "\n"
     ]
    }
   ],
   "source": [
    "# Top 3 reviewers with most helpful reviews\n",
    "# Filter the dataset to include only helpful reviews\n",
    "helpful_reviews = data_unique[data_unique['isHelpful'] == 1]\n",
    "# Count the number of helpful reviews per reviewerID\n",
    "helpful_review_counts = helpful_reviews['reviewerID'].value_counts()\n",
    "# Get the top 3 reviewers with the most helpful reviews\n",
    "top_3_reviewers = helpful_review_counts.head(3)\n",
    "for reviewerID, numHelpful in top_3_reviewers.items():\n",
    "  reviewerName = data_unique[data_unique['reviewerID'] == reviewerID]['reviewerName'].iloc[0]\n",
    "  print(f\"{reviewerName} with ID {reviewerID} wrote {numHelpful} helpful reviews.\")\n",
    "  print(helpful_reviews[helpful_reviews['reviewerID'] == reviewerID][['overall', 'helpfulness', 'reviewTextLength']].describe(), end=\"\\n\\n\")"
   ]
  },
  {
   "cell_type": "markdown",
   "metadata": {
    "id": "h7q4uS9D0wT5"
   },
   "source": [
    "Matthew G. Sherwin wrote the longest reviews on average (approximately 1300 characters, compared to 600 characters for Kelly and Candy Cane). His reviews also received the most helpfulness on average (20 votes, compared to approximately 6 for Kelly and Candy Cane). The majority of reviews were positive with a product rating of 5 stars."
   ]
  },
  {
   "cell_type": "markdown",
   "metadata": {
    "id": "6cJsAivjKer8"
   },
   "source": [
    "### Analysis over Time"
   ]
  },
  {
   "cell_type": "code",
   "execution_count": 11,
   "metadata": {
    "colab": {
     "base_uri": "https://localhost:8080/",
     "height": 607
    },
    "executionInfo": {
     "elapsed": 869,
     "status": "ok",
     "timestamp": 1718373105155,
     "user": {
      "displayName": "Afonso",
      "userId": "05673892980624061652"
     },
     "user_tz": -60
    },
    "id": "0L5V-Pr326Of",
    "outputId": "ce4fb4f8-e3e0-4c60-a93c-8b53e34b086f"
   },
   "outputs": [
    {
     "data": {
      "image/png": "[encoded data removed]",
      "text/plain": [
       "<Figure size 1000x600 with 1 Axes>"
      ]
     },
     "metadata": {},
     "output_type": "display_data"
    }
   ],
   "source": [
    "# Plot Helpful vs Unhelpful Votes Over Time\n",
    "data_unique['year'] = data_unique['reviewTime'].dt.year\n",
    "grouped = data_unique.groupby('year').agg({'helpfulVotes': 'sum',\n",
    "                                           'unhelpfulVotes': 'sum'}).reset_index()\n",
    "plt.figure(figsize=(10, 6))\n",
    "plt.plot(grouped['year'], grouped['helpfulVotes'],\n",
    "         label='Helpful Votes', color='green')\n",
    "plt.plot(grouped['year'], grouped['unhelpfulVotes'],\n",
    "         label='Unhelpful Votes', color='red')\n",
    "plt.title('Helpful vs Unhelpful Votes Over Time')\n",
    "plt.xlabel('Time')\n",
    "plt.ylabel('Votes')\n",
    "plt.legend()\n",
    "plt.grid(True)\n",
    "plt.xticks(grouped['year'], grouped['year'], rotation=45)\n",
    "plt.tight_layout()"
   ]
  },
  {
   "cell_type": "markdown",
   "metadata": {
    "id": "7Kt0_dsMMqjl"
   },
   "source": [
    "Between 2003 and 2013, the average proportion of helpful votes increased. However, it sharply declined in 2014."
   ]
  },
  {
   "cell_type": "code",
   "execution_count": 12,
   "metadata": {
    "colab": {
     "base_uri": "https://localhost:8080/",
     "height": 763
    },
    "executionInfo": {
     "elapsed": 2639,
     "status": "ok",
     "timestamp": 1718373111426,
     "user": {
      "displayName": "Afonso",
      "userId": "05673892980624061652"
     },
     "user_tz": -60
    },
    "id": "dKvQCqGsQOXg",
    "outputId": "1ccff760-d1a0-482e-84b0-5cab6a38707a"
   },
   "outputs": [
    {
     "name": "stdout",
     "output_type": "stream",
     "text": [
      "isHelpful           0           1\n",
      "reviewTime                       \n",
      "2003         0.000000  100.000000\n",
      "2004         0.000000  100.000000\n",
      "2005        11.111111   88.888889\n",
      "2006         9.565217   90.434783\n",
      "2007        25.720621   74.279379\n",
      "2008        31.682028   68.317972\n",
      "2009        35.400361   64.599639\n",
      "2010        41.493056   58.506944\n",
      "2011        46.561706   53.438294\n",
      "2012        61.982357   38.017643\n",
      "2013        75.718266   24.281734\n",
      "2014        86.213865   13.786135\n"
     ]
    },
    {
     "data": {
      "text/plain": [
       "<Figure size 1000x600 with 0 Axes>"
      ]
     },
     "metadata": {},
     "output_type": "display_data"
    },
    {
     "data": {
      "image/png": "[encoded data removed]",
      "text/plain": [
       "<Figure size 640x480 with 1 Axes>"
      ]
     },
     "metadata": {},
     "output_type": "display_data"
    }
   ],
   "source": [
    "# Plot Distribution of Helpful Reviews Over Time\n",
    "grouped = data_unique.groupby([pd.Grouper(key='reviewTime', freq='YE'),\n",
    "                               'isHelpful']).size().unstack(fill_value=0)\n",
    "grouped_percentage = grouped.div(grouped.sum(axis=1), axis=0) * 100\n",
    "grouped_percentage.index = grouped_percentage.index.year\n",
    "plt.figure(figsize=(10, 6))\n",
    "grouped_percentage.plot(kind='bar', stacked=True, color=['red', 'green'])\n",
    "plt.title('Distribution of Helpful Reviews Over Time')\n",
    "plt.xlabel('Year')\n",
    "plt.ylabel('Percentage of Reviews')\n",
    "plt.legend(['Unhelpful', 'Helpful'], loc='upper left')\n",
    "plt.grid(True)\n",
    "print(grouped_percentage)\n",
    "plt.xticks(rotation=45)\n",
    "plt.tight_layout()"
   ]
  },
  {
   "cell_type": "markdown",
   "metadata": {
    "id": "WaQjYZaWV0w1"
   },
   "source": [
    "Based on this distribution, the proportion of unhelpful reviews has been steadily rising over time, from approximately 11% in 2005 to 86% in 2014. This trend correlates with the increasing number of reviews with zero votes, or an equal number of upvotes and downvotes, as depicted in the following plot. Such reviews are regarded as unhelpful. Additionally, the total number of reviews per year has shown a consistent upward trend.\n",
    "\n",
    "**NOTE:** In this scenario, reviews with zero votes are defined as unhelpful. An alternative approach would be to classify them as neutral, thereby introducing 3 distinct categories: helpful, neutral, unhelpful."
   ]
  },
  {
   "cell_type": "code",
   "execution_count": 13,
   "metadata": {
    "colab": {
     "base_uri": "https://localhost:8080/",
     "height": 607
    },
    "executionInfo": {
     "elapsed": 791,
     "status": "ok",
     "timestamp": 1718373114810,
     "user": {
      "displayName": "Afonso",
      "userId": "05673892980624061652"
     },
     "user_tz": -60
    },
    "id": "eaTNB7qJVzz9",
    "outputId": "45448f63-3928-419e-a94a-b212f41b84dd"
   },
   "outputs": [
    {
     "data": {
      "image/png": "[encoded data removed]",
      "text/plain": [
       "<Figure size 1000x600 with 1 Axes>"
      ]
     },
     "metadata": {},
     "output_type": "display_data"
    }
   ],
   "source": [
    "# Plot Distribution of Reviews with Zero Helpfulness\n",
    "zero_helpfulness = data_unique[data_unique['helpfulness'] == 0].groupby('year').size()\n",
    "total_reviews = data_unique.groupby('year').size()\n",
    "zero_helpfulness_percentage = (zero_helpfulness / total_reviews) * 100\n",
    "plt.figure(figsize=(10, 6))\n",
    "zero_helpfulness_percentage.plot(kind='bar')\n",
    "plt.title('Percentage of Reviews with Zero Helpfulness Over Time')\n",
    "plt.xlabel('Year')\n",
    "plt.ylabel('Percentage of Reviews')\n",
    "plt.legend(['Zero Helpfulness'])\n",
    "plt.grid(True)\n",
    "plt.xticks(rotation=45)\n",
    "plt.tight_layout()"
   ]
  },
  {
   "cell_type": "markdown",
   "metadata": {
    "id": "Wv0FVKO8PWju"
   },
   "source": [
    "## Modeling"
   ]
  },
  {
   "cell_type": "markdown",
   "metadata": {
    "id": "ncbjNTdyDjgh"
   },
   "source": [
    "### Helpfulness Score"
   ]
  },
  {
   "cell_type": "code",
   "execution_count": 14,
   "metadata": {
    "executionInfo": {
     "elapsed": 1165,
     "status": "ok",
     "timestamp": 1718373119941,
     "user": {
      "displayName": "Afonso",
      "userId": "05673892980624061652"
     },
     "user_tz": -60
    },
    "id": "IM6rzz8LVOTr"
   },
   "outputs": [],
   "source": [
    "df = data_unique\n",
    "# Create feature that captures helpfulness history of reviewer (previous reviews)\n",
    "# Sort by reviewTime within each reviewerID group\n",
    "df = df.sort_values(by=['reviewerID', 'reviewTime'])\n",
    "# Group by reviewerID\n",
    "df['cumsumHelpfulness'] = df.groupby('reviewerID')['helpfulness'].cumsum()\n",
    "df['cumsumHelpfulness'] = df.groupby('reviewerID')['cumsumHelpfulness'].shift(fill_value=0)\n",
    "df['cumsumReviews'] = df.groupby('reviewerID').cumcount()\n",
    "# Calculate helpfulness score\n",
    "df['helpfulnessScore'] = df['cumsumHelpfulness'] / df['cumsumReviews']\n",
    "df['helpfulnessScore'] = df['helpfulnessScore'].fillna(0)\n",
    "df = df.sort_values(by='reviewTime')"
   ]
  },
  {
   "cell_type": "markdown",
   "metadata": {
    "id": "yHfDW1fyDXtG"
   },
   "source": [
    "### Classification Datasets"
   ]
  },
  {
   "cell_type": "code",
   "execution_count": 15,
   "metadata": {
    "colab": {
     "base_uri": "https://localhost:8080/",
     "height": 619
    },
    "executionInfo": {
     "elapsed": 771,
     "status": "ok",
     "timestamp": 1718373130364,
     "user": {
      "displayName": "Afonso",
      "userId": "05673892980624061652"
     },
     "user_tz": -60
    },
    "id": "ENO6WjeNMb65",
    "outputId": "e2c458c0-6b3a-4e7e-f4d3-dc47d55c9e5d"
   },
   "outputs": [
    {
     "name": "stdout",
     "output_type": "stream",
     "text": [
      "Train samples: 222820, Counts: [162179  60641] Percentages: [72.784759 27.215241]\n",
      "Val samples: 27852, Counts: [23895  3957] Percentages: [85.79276174 14.20723826]\n",
      "Test samples: 27853, Counts: [25500  2353] Percentages: [91.55207698  8.44792302]\n"
     ]
    },
    {
     "data": {
      "image/png": "[encoded data removed]",
      "text/plain": [
       "<Figure size 1000x600 with 1 Axes>"
      ]
     },
     "metadata": {},
     "output_type": "display_data"
    }
   ],
   "source": [
    "from sklearn.model_selection import train_test_split\n",
    "\n",
    "X = df.drop(columns=['asin', 'helpful', 'helpfulVotes', 'totalVotes', 'unhelpfulVotes',\n",
    "                     'helpfulness', 'isHelpful', 'cumsumHelpfulness', 'cumsumReviews',\n",
    "                     'unixReviewTime', 'reviewerID', 'reviewerName', 'summary',\n",
    "                     'isTopReviewer']).reset_index(drop=True)\n",
    "y = df['isHelpful'].values\n",
    "# Create train, val and test sets maintaining the temporal order (80% 10% 10%)\n",
    "X_train, X_val_test, y_train, y_val_test = train_test_split(X, y, train_size=0.8, shuffle=False)\n",
    "X_val, X_test, y_val, y_test = train_test_split(X_val_test, y_val_test, test_size=0.5, shuffle=False)\n",
    "\n",
    "# Check the stats of the resulting datasets\n",
    "train_counts = np.bincount(y_train)\n",
    "val_counts = np.bincount(y_val)\n",
    "test_counts = np.bincount(y_test)\n",
    "train_percentages = train_counts / len(y_train) * 100\n",
    "val_percentages = val_counts / len(y_val) * 100\n",
    "test_percentages = test_counts / len(y_test) * 100\n",
    "\n",
    "print(f\"Train samples: {len(y_train)}, Counts: {train_counts}\"\n",
    "      f\" Percentages: {train_percentages}\")\n",
    "print(f\"Val samples: {len(y_val)}, Counts: {val_counts}\"\n",
    "      f\" Percentages: {val_percentages}\")\n",
    "print(f\"Test samples: {len(y_test)}, Counts: {test_counts}\"\n",
    "      f\" Percentages: {test_percentages}\")\n",
    "\n",
    "# Plotting\n",
    "labels = ['Class 0', 'Class 1']\n",
    "x = np.arange(len(labels))\n",
    "width = 0.2\n",
    "\n",
    "fig, ax = plt.subplots(figsize=(10, 6))\n",
    "bars1 = ax.bar(x - width, train_percentages, width, label='Train')\n",
    "bars2 = ax.bar(x, val_percentages, width, label='Validation')\n",
    "bars3 = ax.bar(x + width, test_percentages, width, label='Test')\n",
    "ax.set_xlabel('Classes')\n",
    "ax.set_ylabel('Percentage (%)')\n",
    "ax.set_title('Distribution of Classes in Train, Validation, and Test Sets')\n",
    "ax.set_xticks(x)\n",
    "ax.set_xticklabels(labels)\n",
    "ax.legend()\n",
    "\n",
    "def add_percentage_labels(bars):\n",
    "    for bar in bars:\n",
    "        height = bar.get_height()\n",
    "        ax.annotate(f'{height:.1f}%',\n",
    "                    xy=(bar.get_x() + bar.get_width() / 2, height),\n",
    "                    xytext=(0, 3),\n",
    "                    textcoords='offset points',\n",
    "                    ha='center', va='bottom')\n",
    "\n",
    "add_percentage_labels(bars1)\n",
    "add_percentage_labels(bars2)\n",
    "add_percentage_labels(bars3)"
   ]
  },
  {
   "cell_type": "markdown",
   "metadata": {
    "id": "QlyTTPcufzm1"
   },
   "source": [
    "We are dealing with an imbalanced dataset where the majority of labels belong to class 0 (unhelpful)."
   ]
  },
  {
   "cell_type": "markdown",
   "metadata": {
    "id": "OvNkLwA8D5Ch"
   },
   "source": [
    "### Simple Naive Bayes Classifier"
   ]
  },
  {
   "cell_type": "code",
   "execution_count": 16,
   "metadata": {
    "executionInfo": {
     "elapsed": 255,
     "status": "ok",
     "timestamp": 1718373135923,
     "user": {
      "displayName": "Afonso",
      "userId": "05673892980624061652"
     },
     "user_tz": -60
    },
    "id": "ywSOEnT3183B"
   },
   "outputs": [],
   "source": [
    "from sklearn.base import BaseEstimator, TransformerMixin\n",
    "from sklearn.feature_extraction.text import CountVectorizer\n",
    "from sklearn.naive_bayes import MultinomialNB\n",
    "from sklearn.pipeline import Pipeline\n",
    "from sklearn.model_selection import GridSearchCV\n",
    "from sklearn.metrics import classification_report\n",
    "\n",
    "# Custom transformer to select a specific column\n",
    "class TextSelector(BaseEstimator, TransformerMixin):\n",
    "    def __init__(self, key):\n",
    "        self.key = key\n",
    "\n",
    "    def fit(self, X, y=None):\n",
    "        return self\n",
    "\n",
    "    def transform(self, X):\n",
    "        return X[self.key]"
   ]
  },
  {
   "cell_type": "code",
   "execution_count": 17,
   "metadata": {
    "colab": {
     "base_uri": "https://localhost:8080/"
    },
    "executionInfo": {
     "elapsed": 298133,
     "status": "ok",
     "timestamp": 1718375126204,
     "user": {
      "displayName": "Afonso",
      "userId": "05673892980624061652"
     },
     "user_tz": -60
    },
    "id": "Ir4sUhyBfzPq",
    "outputId": "2105b6ce-c536-4d1b-ba87-dad2a96bed11"
   },
   "outputs": [
    {
     "name": "stdout",
     "output_type": "stream",
     "text": [
      "Fitting 3 folds for each of 4 candidates, totalling 12 fits\n",
      "Best parameters: {'vect__max_features': None, 'vect__stop_words': None}\n",
      "Best cross-validation score: 0.3226807173096607\n",
      "              precision    recall  f1-score   support\n",
      "\n",
      "           0       0.87      0.86      0.87     23895\n",
      "           1       0.23      0.26      0.24      3957\n",
      "\n",
      "    accuracy                           0.77     27852\n",
      "   macro avg       0.55      0.56      0.55     27852\n",
      "weighted avg       0.78      0.77      0.78     27852\n",
      "\n"
     ]
    }
   ],
   "source": [
    "# Naive Bayes classifier pipeline\n",
    "pipeline = Pipeline([\n",
    "    ('selector', TextSelector(key='reviewText')),     # Select 'reviewText' column\n",
    "    ('vect', CountVectorizer()),                      # Convert text to vector of token counts\n",
    "    ('clf', MultinomialNB())                          # Naive Bayes classifier\n",
    "])\n",
    "\n",
    "# Parameter grid for CountVectorizer\n",
    "param_grid = {\n",
    "    'vect__stop_words': [None, 'english'],\n",
    "    'vect__max_features': [None, 100]\n",
    "}\n",
    "\n",
    "# Perform Grid Search Cross-Validation with 3 Stratified Folds\n",
    "grid_search = GridSearchCV(pipeline, param_grid, scoring='f1',\n",
    "                           cv=3, n_jobs=-1, verbose=1)\n",
    "grid_search.fit(X_train, y_train)\n",
    "\n",
    "# Best parameters and best score\n",
    "print(\"Best parameters:\", grid_search.best_params_)\n",
    "print(\"Best cross-validation score:\", grid_search.best_score_)\n",
    "\n",
    "# Evaluate on validation set\n",
    "best_model = grid_search.best_estimator_\n",
    "y_pred = best_model.predict(X_val)\n",
    "print(classification_report(y_val, y_pred))"
   ]
  },
  {
   "cell_type": "markdown",
   "metadata": {
    "id": "ZXxW9wLg2DhI"
   },
   "source": [
    "The classifier performs reasonably well at identifying unhelpful reviews. However, only 23% of the reviews predicted as helpful are actually helpful (low precision), and only 26% of the truly helpful reviews are correctly identified (low recall). Additionally, the accuracy is relatively high, but this metric is not very informative for imbalanced datasets where the majority class is negative."
   ]
  },
  {
   "cell_type": "markdown",
   "metadata": {
    "id": "lfJercFo3kXy"
   },
   "source": [
    "### Latent Semantic Analysis (LSA)"
   ]
  },
  {
   "cell_type": "markdown",
   "metadata": {
    "id": "DkRuuW4G3sRZ"
   },
   "source": [
    "Overview of the process:\n",
    "\n",
    "\n",
    "1.   TF-IDF transforms the text data into a numerical matrix where each element represents the importance of a word in a review relative to a collection of reviews.\n",
    "2.   Truncated SVD reduces the dimensionality of the sparse TF-IDF matrix, capturing the most important features.\n",
    "\n",
    "\n",
    "    "
   ]
  },
  {
   "cell_type": "code",
   "execution_count": 18,
   "metadata": {
    "executionInfo": {
     "elapsed": 264,
     "status": "ok",
     "timestamp": 1718375149673,
     "user": {
      "displayName": "Afonso",
      "userId": "05673892980624061652"
     },
     "user_tz": -60
    },
    "id": "gGZN8SyZM5YN"
   },
   "outputs": [],
   "source": [
    "from sklearn.feature_extraction.text import TfidfVectorizer\n",
    "from sklearn.decomposition import TruncatedSVD\n",
    "\n",
    "def lsa_validate(clf, n_components=100, preprocess_steps=None, param_grid=None, X=X_val, y=y_val):\n",
    "    # Pipeline with TF-IDF and Truncated SVD (LSA)\n",
    "    steps = [('selector', TextSelector(key='reviewText')),      # Select 'reviewText' column\n",
    "             ('tfidf', TfidfVectorizer()),                      # Convert text to TF-IDF\n",
    "             ('svd', TruncatedSVD(n_components=n_components))]  # Apply SVD (LSA)\n",
    "    if preprocess_steps:\n",
    "        steps += preprocess_steps\n",
    "    steps += [('clf', clf)] # Classifier   \n",
    "    pipeline = Pipeline(steps)\n",
    "    if param_grid:\n",
    "        # Perform Grid Search Cross-Validation with 3 Stratified Folds\n",
    "        grid_search = GridSearchCV(pipeline, param_grid, scoring='f1',\n",
    "                                   cv=3, n_jobs=5, verbose=1)\n",
    "        grid_search.fit(X_train, y_train)\n",
    "        # Best parameters and best score\n",
    "        print(\"Best parameters:\", grid_search.best_params_)\n",
    "        print(\"Best cross-validation score:\", grid_search.best_score_)\n",
    "        model = grid_search.best_estimator_\n",
    "    else:\n",
    "        model = pipeline\n",
    "        # Train the model\n",
    "        model.fit(X_train, y_train)\n",
    "    # Evaluate\n",
    "    y_pred = model.predict(X)\n",
    "    print(classification_report(y, y_pred))"
   ]
  },
  {
   "cell_type": "markdown",
   "metadata": {
    "id": "gSeBZ-oxKlah"
   },
   "source": [
    "#### Finetuning SVD"
   ]
  },
  {
   "cell_type": "code",
   "execution_count": 19,
   "metadata": {},
   "outputs": [
    {
     "name": "stdout",
     "output_type": "stream",
     "text": [
      "Fitting 3 folds for each of 3 candidates, totalling 9 fits\n",
      "Best parameters: {'svd__n_components': 1000}\n",
      "Best cross-validation score: 0.43811440999472784\n",
      "              precision    recall  f1-score   support\n",
      "\n",
      "           0       0.90      0.62      0.73     23895\n",
      "           1       0.20      0.58      0.30      3957\n",
      "\n",
      "    accuracy                           0.62     27852\n",
      "   macro avg       0.55      0.60      0.52     27852\n",
      "weighted avg       0.80      0.62      0.67     27852\n",
      "\n"
     ]
    }
   ],
   "source": [
    "from sklearn.linear_model import LogisticRegression\n",
    "\n",
    "param_grid = {\n",
    "    'svd__n_components': [100, 500, 1000]      # number of components for SVD\n",
    "}\n",
    "lsa_validate(LogisticRegression(class_weight='balanced'), param_grid=param_grid)"
   ]
  },
  {
   "cell_type": "markdown",
   "metadata": {},
   "source": [
    "LSA with Logistic Regression outperforms the Naive Bayes approach in terms of the F1 score (for the positive class)."
   ]
  },
  {
   "cell_type": "markdown",
   "metadata": {},
   "source": [
    "#### Finetuning Logistic Regression"
   ]
  },
  {
   "cell_type": "code",
   "execution_count": 20,
   "metadata": {},
   "outputs": [
    {
     "name": "stdout",
     "output_type": "stream",
     "text": [
      "Fitting 3 folds for each of 5 candidates, totalling 15 fits\n",
      "Best parameters: {'clf__C': 0.1}\n",
      "Best cross-validation score: 0.44033833828046615\n",
      "              precision    recall  f1-score   support\n",
      "\n",
      "           0       0.90      0.62      0.73     23895\n",
      "           1       0.20      0.58      0.30      3957\n",
      "\n",
      "    accuracy                           0.62     27852\n",
      "   macro avg       0.55      0.60      0.52     27852\n",
      "weighted avg       0.80      0.62      0.67     27852\n",
      "\n"
     ]
    }
   ],
   "source": [
    "param_grid = {\n",
    "    'clf__C': [0.01, 0.1, 1, 10, 100]            # inverse of regularization strength\n",
    "}\n",
    "lsa_validate(LogisticRegression(class_weight='balanced'), n_components=1000, param_grid=param_grid)"
   ]
  },
  {
   "cell_type": "markdown",
   "metadata": {},
   "source": [
    "There is no meaningful change in performance."
   ]
  },
  {
   "cell_type": "markdown",
   "metadata": {},
   "source": [
    "#### Finetuning K Nearest Neighbors"
   ]
  },
  {
   "cell_type": "code",
   "execution_count": 21,
   "metadata": {},
   "outputs": [
    {
     "name": "stdout",
     "output_type": "stream",
     "text": [
      "Fitting 3 folds for each of 8 candidates, totalling 24 fits\n",
      "Best parameters: {'clf__metric': 'cosine', 'clf__n_neighbors': 3, 'clf__weights': 'uniform'}\n",
      "Best cross-validation score: 0.3381790811905178\n",
      "              precision    recall  f1-score   support\n",
      "\n",
      "           0       0.87      0.77      0.82     23895\n",
      "           1       0.19      0.33      0.24      3957\n",
      "\n",
      "    accuracy                           0.70     27852\n",
      "   macro avg       0.53      0.55      0.53     27852\n",
      "weighted avg       0.78      0.70      0.74     27852\n",
      "\n"
     ]
    }
   ],
   "source": [
    "from sklearn.neighbors import KNeighborsClassifier\n",
    "\n",
    "param_grid = {\n",
    "    'clf__n_neighbors': [3, 5],               # number of neighbors\n",
    "    'clf__weights': ['uniform', 'distance'],  # weight function used in prediction\n",
    "    'clf__metric': ['minkowski', 'cosine']    # metric for distance computation\n",
    "}\n",
    "lsa_validate(KNeighborsClassifier(), n_components=1000, param_grid=param_grid)"
   ]
  },
  {
   "cell_type": "markdown",
   "metadata": {},
   "source": [
    "The k-nearest neighbors classifier performs worse than logistic regression in terms of the F1 score (for the positive class). However, its accuracy is 8% higher because it is better at identifying unhelpful reviews, which is the majority class."
   ]
  },
  {
   "cell_type": "markdown",
   "metadata": {},
   "source": [
    "#### Finetuning Random Forest Classifier"
   ]
  },
  {
   "cell_type": "code",
   "execution_count": 21,
   "metadata": {},
   "outputs": [
    {
     "name": "stdout",
     "output_type": "stream",
     "text": [
      "Fitting 3 folds for each of 8 candidates, totalling 24 fits\n"
     ]
    },
    {
     "name": "stderr",
     "output_type": "stream",
     "text": [
      "/Users/afonsoeduardo/miniconda3/envs/zen/lib/python3.12/site-packages/joblib/externals/loky/process_executor.py:752: UserWarning: A worker stopped while some jobs were given to the executor. This can be caused by a too short worker timeout or by a memory leak.\n",
      "  warnings.warn(\n"
     ]
    },
    {
     "name": "stdout",
     "output_type": "stream",
     "text": [
      "Best parameters: {'clf__max_depth': 10, 'clf__min_samples_split': 2, 'clf__n_estimators': 300}\n",
      "Best cross-validation score: 0.4083510380675945\n",
      "              precision    recall  f1-score   support\n",
      "\n",
      "           0       0.89      0.71      0.79     23895\n",
      "           1       0.21      0.47      0.29      3957\n",
      "\n",
      "    accuracy                           0.67     27852\n",
      "   macro avg       0.55      0.59      0.54     27852\n",
      "weighted avg       0.79      0.67      0.72     27852\n",
      "\n"
     ]
    }
   ],
   "source": [
    "from sklearn.ensemble import RandomForestClassifier\n",
    "\n",
    "param_grid = {\n",
    "    'clf__n_estimators': [100, 300],       # number of trees\n",
    "    'clf__max_depth': [None, 10],          # depth of trees\n",
    "    'clf__min_samples_split': [2, 5]       # minimum num of samples required to split a node\n",
    "}\n",
    "lsa_validate(RandomForestClassifier(n_jobs=5, random_state=117, class_weight='balanced'), n_components=1000, param_grid=param_grid)"
   ]
  },
  {
   "cell_type": "markdown",
   "metadata": {},
   "source": [
    "The random forest classifier performs marginally worse than logistic regression in terms of the F1 score (for the positive class)."
   ]
  },
  {
   "cell_type": "markdown",
   "metadata": {},
   "source": [
    "#### Neural Network Classifier"
   ]
  },
  {
   "cell_type": "code",
   "execution_count": 22,
   "metadata": {},
   "outputs": [],
   "source": [
    "import tensorflow as tf\n",
    "from tensorflow.keras.models import Sequential\n",
    "from tensorflow.keras.layers import Dense, Input\n",
    "from tensorflow.keras.optimizers import Adam\n",
    "from tensorflow.keras import backend as K\n",
    "from sklearn.base import BaseEstimator, ClassifierMixin\n",
    "from sklearn.metrics import f1_score\n",
    "\n",
    "\n",
    "class NNClassifier(BaseEstimator, ClassifierMixin):\n",
    "    def __init__(self, input_dim=1000, epochs=20, batch_size=32, learning_rate=0.001,\n",
    "                 weight_decay=0.004):\n",
    "        self.input_dim = input_dim\n",
    "        self.epochs = epochs\n",
    "        self.batch_size = batch_size\n",
    "        self.learning_rate = learning_rate\n",
    "        self.weight_decay = weight_decay\n",
    "        self.model_ = None\n",
    "\n",
    "    def _build_model(self):\n",
    "        model = Sequential()\n",
    "        model.add(Input(shape=(self.input_dim,)))\n",
    "        model.add(Dense(200, activation='relu'))\n",
    "        model.add(Dense(50, activation='relu'))\n",
    "        model.add(Dense(1, activation='sigmoid'))\n",
    "        optimizer = tf.keras.optimizers.AdamW(learning_rate=self.learning_rate, weight_decay=self.weight_decay)\n",
    "        model.compile(optimizer=optimizer, loss='binary_crossentropy')\n",
    "        return model\n",
    "\n",
    "    def fit(self, X, y):\n",
    "        self.input_dim = X.shape[1]\n",
    "        self.model_ = self._build_model()\n",
    "        self.model_.fit(X, y, epochs=self.epochs, batch_size=self.batch_size, verbose=1)\n",
    "        return self\n",
    "\n",
    "    def predict(self, X):\n",
    "        return (self.model_.predict(X) > 0.5).astype(\"int32\")\n",
    "\n",
    "    def predict_proba(self, X):\n",
    "        return self.model_.predict(X)\n",
    "\n",
    "    def score(self, X, y):\n",
    "        y_pred = self.predict(X)\n",
    "        return f1_score(y, y_pred)"
   ]
  },
  {
   "cell_type": "code",
   "execution_count": 23,
   "metadata": {},
   "outputs": [
    {
     "name": "stdout",
     "output_type": "stream",
     "text": [
      "Epoch 1/20\n",
      "\u001b[1m6964/6964\u001b[0m \u001b[32m━━━━━━━━━━━━━━━━━━━━\u001b[0m\u001b[37m\u001b[0m \u001b[1m8s\u001b[0m 1ms/step - loss: 0.5772\n",
      "Epoch 2/20\n",
      "\u001b[1m6964/6964\u001b[0m \u001b[32m━━━━━━━━━━━━━━━━━━━━\u001b[0m\u001b[37m\u001b[0m \u001b[1m8s\u001b[0m 1ms/step - loss: 0.5491\n",
      "Epoch 3/20\n",
      "\u001b[1m6964/6964\u001b[0m \u001b[32m━━━━━━━━━━━━━━━━━━━━\u001b[0m\u001b[37m\u001b[0m \u001b[1m7s\u001b[0m 1ms/step - loss: 0.5371\n",
      "Epoch 4/20\n",
      "\u001b[1m6964/6964\u001b[0m \u001b[32m━━━━━━━━━━━━━━━━━━━━\u001b[0m\u001b[37m\u001b[0m \u001b[1m8s\u001b[0m 1ms/step - loss: 0.5120\n",
      "Epoch 5/20\n",
      "\u001b[1m6964/6964\u001b[0m \u001b[32m━━━━━━━━━━━━━━━━━━━━\u001b[0m\u001b[37m\u001b[0m \u001b[1m7s\u001b[0m 1ms/step - loss: 0.4744\n",
      "Epoch 6/20\n",
      "\u001b[1m6964/6964\u001b[0m \u001b[32m━━━━━━━━━━━━━━━━━━━━\u001b[0m\u001b[37m\u001b[0m \u001b[1m8s\u001b[0m 1ms/step - loss: 0.4237\n",
      "Epoch 7/20\n",
      "\u001b[1m6964/6964\u001b[0m \u001b[32m━━━━━━━━━━━━━━━━━━━━\u001b[0m\u001b[37m\u001b[0m \u001b[1m8s\u001b[0m 1ms/step - loss: 0.3840\n",
      "Epoch 8/20\n",
      "\u001b[1m6964/6964\u001b[0m \u001b[32m━━━━━━━━━━━━━━━━━━━━\u001b[0m\u001b[37m\u001b[0m \u001b[1m9s\u001b[0m 1ms/step - loss: 0.3410\n",
      "Epoch 9/20\n",
      "\u001b[1m6964/6964\u001b[0m \u001b[32m━━━━━━━━━━━━━━━━━━━━\u001b[0m\u001b[37m\u001b[0m \u001b[1m9s\u001b[0m 1ms/step - loss: 0.3098\n",
      "Epoch 10/20\n",
      "\u001b[1m6964/6964\u001b[0m \u001b[32m━━━━━━━━━━━━━━━━━━━━\u001b[0m\u001b[37m\u001b[0m \u001b[1m7s\u001b[0m 1ms/step - loss: 0.2821\n",
      "Epoch 11/20\n",
      "\u001b[1m6964/6964\u001b[0m \u001b[32m━━━━━━━━━━━━━━━━━━━━\u001b[0m\u001b[37m\u001b[0m \u001b[1m9s\u001b[0m 1ms/step - loss: 0.2591\n",
      "Epoch 12/20\n",
      "\u001b[1m6964/6964\u001b[0m \u001b[32m━━━━━━━━━━━━━━━━━━━━\u001b[0m\u001b[37m\u001b[0m \u001b[1m7s\u001b[0m 1ms/step - loss: 0.2375\n",
      "Epoch 13/20\n",
      "\u001b[1m6964/6964\u001b[0m \u001b[32m━━━━━━━━━━━━━━━━━━━━\u001b[0m\u001b[37m\u001b[0m \u001b[1m7s\u001b[0m 1ms/step - loss: 0.2195\n",
      "Epoch 14/20\n",
      "\u001b[1m6964/6964\u001b[0m \u001b[32m━━━━━━━━━━━━━━━━━━━━\u001b[0m\u001b[37m\u001b[0m \u001b[1m8s\u001b[0m 1ms/step - loss: 0.2053\n",
      "Epoch 15/20\n",
      "\u001b[1m6964/6964\u001b[0m \u001b[32m━━━━━━━━━━━━━━━━━━━━\u001b[0m\u001b[37m\u001b[0m \u001b[1m8s\u001b[0m 1ms/step - loss: 0.1883\n",
      "Epoch 16/20\n",
      "\u001b[1m6964/6964\u001b[0m \u001b[32m━━━━━━━━━━━━━━━━━━━━\u001b[0m\u001b[37m\u001b[0m \u001b[1m8s\u001b[0m 1ms/step - loss: 0.1776\n",
      "Epoch 17/20\n",
      "\u001b[1m6964/6964\u001b[0m \u001b[32m━━━━━━━━━━━━━━━━━━━━\u001b[0m\u001b[37m\u001b[0m \u001b[1m8s\u001b[0m 1ms/step - loss: 0.1684\n",
      "Epoch 18/20\n",
      "\u001b[1m6964/6964\u001b[0m \u001b[32m━━━━━━━━━━━━━━━━━━━━\u001b[0m\u001b[37m\u001b[0m \u001b[1m9s\u001b[0m 1ms/step - loss: 0.1584\n",
      "Epoch 19/20\n",
      "\u001b[1m6964/6964\u001b[0m \u001b[32m━━━━━━━━━━━━━━━━━━━━\u001b[0m\u001b[37m\u001b[0m \u001b[1m9s\u001b[0m 1ms/step - loss: 0.1489\n",
      "Epoch 20/20\n",
      "\u001b[1m6964/6964\u001b[0m \u001b[32m━━━━━━━━━━━━━━━━━━━━\u001b[0m\u001b[37m\u001b[0m \u001b[1m10s\u001b[0m 1ms/step - loss: 0.1427\n",
      "\u001b[1m871/871\u001b[0m \u001b[32m━━━━━━━━━━━━━━━━━━━━\u001b[0m\u001b[37m\u001b[0m \u001b[1m0s\u001b[0m 382us/step\n",
      "              precision    recall  f1-score   support\n",
      "\n",
      "           0       0.87      0.78      0.82     23895\n",
      "           1       0.18      0.29      0.22      3957\n",
      "\n",
      "    accuracy                           0.71     27852\n",
      "   macro avg       0.52      0.53      0.52     27852\n",
      "weighted avg       0.77      0.71      0.74     27852\n",
      "\n"
     ]
    }
   ],
   "source": [
    "from sklearn.preprocessing import StandardScaler\n",
    "\n",
    "lsa_validate(NNClassifier(), n_components=1000, preprocess_steps=[('scaler', StandardScaler())])"
   ]
  },
  {
   "cell_type": "markdown",
   "metadata": {},
   "source": [
    "The neural network classifier performs worse than logistic regression in terms of the F1 score (for the positive class).\n",
    "\n",
    "TODO: Finetune the network and use early stopping."
   ]
  },
  {
   "cell_type": "markdown",
   "metadata": {},
   "source": [
    "#### Adding Features"
   ]
  },
  {
   "cell_type": "code",
   "execution_count": 22,
   "metadata": {},
   "outputs": [],
   "source": [
    "from sklearn.compose import ColumnTransformer\n",
    "from sklearn.preprocessing import OneHotEncoder, StandardScaler\n",
    "\n",
    "def lsa_add_feature(clf, n_components=1000, overall=False, helpfulnessScore=False, X=X_val, y=y_val):\n",
    "    # Define preprocessor steps\n",
    "    steps = [('lsa', Pipeline([('tfidf', TfidfVectorizer()),\n",
    "                               ('svd', TruncatedSVD(n_components=n_components))\n",
    "                              ]), 'reviewText')]\n",
    "    if overall: # Add overall as feature\n",
    "        steps += [('overall', OneHotEncoder(), ['overall'])]\n",
    "    if helpfulnessScore: # Add helpfulnessScore as feature\n",
    "        steps += [('helpfulness', StandardScaler(), ['helpfulnessScore'])]\n",
    "    preprocessor = ColumnTransformer(transformers=steps)\n",
    "    # Define the final pipeline\n",
    "    pipeline = Pipeline([\n",
    "        ('preprocessor', preprocessor),\n",
    "        ('clf', clf)\n",
    "    ])\n",
    "    # Train the model\n",
    "    pipeline.fit(X_train, y_train)\n",
    "    # Evaluate\n",
    "    y_pred = pipeline.predict(X)\n",
    "    print(classification_report(y, y_pred))"
   ]
  },
  {
   "cell_type": "code",
   "execution_count": 23,
   "metadata": {},
   "outputs": [
    {
     "name": "stdout",
     "output_type": "stream",
     "text": [
      "              precision    recall  f1-score   support\n",
      "\n",
      "           0       0.90      0.62      0.74     23895\n",
      "           1       0.20      0.58      0.30      3957\n",
      "\n",
      "    accuracy                           0.62     27852\n",
      "   macro avg       0.55      0.60      0.52     27852\n",
      "weighted avg       0.80      0.62      0.67     27852\n",
      "\n"
     ]
    }
   ],
   "source": [
    "lsa_add_feature(LogisticRegression(C=0.1, class_weight='balanced'), overall=True)"
   ]
  },
  {
   "cell_type": "markdown",
   "metadata": {},
   "source": [
    "Adding the product rating as a feature does not improve classification performance."
   ]
  },
  {
   "cell_type": "code",
   "execution_count": 24,
   "metadata": {},
   "outputs": [
    {
     "name": "stdout",
     "output_type": "stream",
     "text": [
      "              precision    recall  f1-score   support\n",
      "\n",
      "           0       0.90      0.64      0.75     23895\n",
      "           1       0.20      0.56      0.30      3957\n",
      "\n",
      "    accuracy                           0.63     27852\n",
      "   macro avg       0.55      0.60      0.52     27852\n",
      "weighted avg       0.80      0.63      0.68     27852\n",
      "\n"
     ]
    }
   ],
   "source": [
    "lsa_add_feature(LogisticRegression(C=0.1, class_weight='balanced'), helpfulnessScore=True)"
   ]
  },
  {
   "cell_type": "markdown",
   "metadata": {},
   "source": [
    "Including the HelpfulnessScore as a feature leads to a 1% increase in accuracy, but lowers recall (for the positive class)."
   ]
  },
  {
   "cell_type": "markdown",
   "metadata": {},
   "source": [
    "#### Test Set"
   ]
  },
  {
   "cell_type": "code",
   "execution_count": 25,
   "metadata": {},
   "outputs": [
    {
     "name": "stdout",
     "output_type": "stream",
     "text": [
      "              precision    recall  f1-score   support\n",
      "\n",
      "           0       0.94      0.65      0.77     25500\n",
      "           1       0.13      0.58      0.21      2353\n",
      "\n",
      "    accuracy                           0.64     27853\n",
      "   macro avg       0.54      0.61      0.49     27853\n",
      "weighted avg       0.87      0.64      0.72     27853\n",
      "\n"
     ]
    }
   ],
   "source": [
    "# Evaluate on test set\n",
    "lsa_add_feature(LogisticRegression(C=0.1, class_weight='balanced'), X=X_test, y=y_test)"
   ]
  },
  {
   "cell_type": "markdown",
   "metadata": {},
   "source": [
    "The model’s performance on the test set is inferior to that on the validation set. Specifically, it demonstrates lower precision, resulting in a correspondingly lower F1 score (for the positive class)."
   ]
  },
  {
   "cell_type": "markdown",
   "metadata": {},
   "source": [
    "### BERT"
   ]
  },
  {
   "cell_type": "code",
   "execution_count": 26,
   "metadata": {},
   "outputs": [
    {
     "name": "stderr",
     "output_type": "stream",
     "text": [
      "/Users/afonsoeduardo/miniconda3/envs/zen/lib/python3.12/site-packages/tqdm/auto.py:21: TqdmWarning: IProgress not found. Please update jupyter and ipywidgets. See https://ipywidgets.readthedocs.io/en/stable/user_install.html\n",
      "  from .autonotebook import tqdm as notebook_tqdm\n"
     ]
    }
   ],
   "source": [
    "from tqdm import tqdm\n",
    "import torch\n",
    "from transformers import BertTokenizer, BertModel\n",
    "from sklearn.linear_model import LogisticRegression\n",
    "from sklearn.preprocessing import StandardScaler\n",
    "from sklearn.ensemble import RandomForestClassifier\n",
    "\n",
    "\n",
    "class BERTEncoder(BaseEstimator, TransformerMixin):\n",
    "    def __init__(self, model_name='bert-base-uncased'):\n",
    "        self.tokenizer = BertTokenizer.from_pretrained(model_name)\n",
    "        self.model = BertModel.from_pretrained(model_name)\n",
    "    \n",
    "    def fit(self, X, y=None):\n",
    "        return self\n",
    "    \n",
    "    def transform(self, X):\n",
    "        X_encoded = []\n",
    "        self.model.eval()\n",
    "        with torch.no_grad():\n",
    "            for text in tqdm(X['reviewText']):\n",
    "                inputs = self.tokenizer(text, return_tensors='pt', truncation=True)\n",
    "                outputs = self.model(**inputs)\n",
    "                # Average along the sequence length dimension\n",
    "                embedding = outputs.last_hidden_state.numpy().mean(1).squeeze() \n",
    "                X_encoded.append(embedding)\n",
    "        return np.array(X_encoded)\n",
    "\n",
    "def bert_embedding(clf, postprocess_steps=None):\n",
    "    # Define pipeline steps\n",
    "    steps = [('bert', BERTEncoder())]\n",
    "    if postprocess_steps:\n",
    "        steps += postprocess_steps\n",
    "    steps += [('clf', clf)]\n",
    "    pipeline = Pipeline(steps)\n",
    "    \n",
    "    # Train the model\n",
    "    pipeline.fit(X_train, y_train)\n",
    "\n",
    "    # Evaluate on validation set\n",
    "    print(\"Validation set\")\n",
    "    y_pred = pipeline.predict(X_val)\n",
    "    print(classification_report(y_val, y_pred))\n",
    "\n",
    "    # Evaluate on test set\n",
    "    print(\"Test set\")\n",
    "    y_pred = pipeline.predict(X_test)\n",
    "    print(classification_report(y_test, y_pred))"
   ]
  },
  {
   "cell_type": "code",
   "execution_count": 27,
   "metadata": {},
   "outputs": [
    {
     "name": "stderr",
     "output_type": "stream",
     "text": [
      "100%|█████████████████████████████████| 222820/222820 [1:58:36<00:00, 31.31it/s]\n"
     ]
    },
    {
     "name": "stdout",
     "output_type": "stream",
     "text": [
      "Validation set\n"
     ]
    },
    {
     "name": "stderr",
     "output_type": "stream",
     "text": [
      "100%|█████████████████████████████████████| 27852/27852 [13:20<00:00, 34.81it/s]\n"
     ]
    },
    {
     "name": "stdout",
     "output_type": "stream",
     "text": [
      "              precision    recall  f1-score   support\n",
      "\n",
      "           0       0.90      0.64      0.75     23895\n",
      "           1       0.21      0.57      0.30      3957\n",
      "\n",
      "    accuracy                           0.63     27852\n",
      "   macro avg       0.55      0.60      0.52     27852\n",
      "weighted avg       0.80      0.63      0.68     27852\n",
      "\n",
      "Test set\n"
     ]
    },
    {
     "name": "stderr",
     "output_type": "stream",
     "text": [
      "100%|█████████████████████████████████████| 27853/27853 [13:05<00:00, 35.47it/s]\n"
     ]
    },
    {
     "name": "stdout",
     "output_type": "stream",
     "text": [
      "              precision    recall  f1-score   support\n",
      "\n",
      "           0       0.94      0.66      0.78     25500\n",
      "           1       0.13      0.57      0.22      2353\n",
      "\n",
      "    accuracy                           0.65     27853\n",
      "   macro avg       0.54      0.61      0.50     27853\n",
      "weighted avg       0.87      0.65      0.73     27853\n",
      "\n"
     ]
    }
   ],
   "source": [
    "bert_embedding(LogisticRegression(C=0.1, class_weight='balanced'), postprocess_steps=[('scaler', StandardScaler())])"
   ]
  },
  {
   "cell_type": "markdown",
   "metadata": {},
   "source": [
    "On the validation set, the F1 score using BERT is similar to that using LSA. However, on the test set, the F1 score is slightly higher."
   ]
  },
  {
   "cell_type": "markdown",
   "metadata": {},
   "source": [
    "**Future work:**\n",
    "* More comprehensive grid search cross-validation\n",
    "* Finetuning the neural network classifier\n",
    "* Other classifiers (e.g., gradient boosting, SVM)\n",
    "* Oversampling of the minority class / Undersampling of the majority class\n",
    "* Dimensionality reduction methods (e.g., PCA)\n",
    "* More meaningful embeddings using other bert-like transformers (package sentence_transformers)\n",
    "* End-to-end training of bert-like transformers with classification head (learning discriminative embeddings)\n",
    "* Redefine as a 3-class classification problem (unhelpful, neutral, helpful)"
   ]
  }
 ],
 "metadata": {
  "colab": {
   "authorship_tag": "ABX9TyOJnq7NkGwTyIV3qCq2Dctz",
   "provenance": [],
   "toc_visible": true
  },
  "kernelspec": {
   "display_name": "Python 3 (ipykernel)",
   "language": "python",
   "name": "python3"
  },
  "language_info": {
   "codemirror_mode": {
    "name": "ipython",
    "version": 3
   },
   "file_extension": ".py",
   "mimetype": "text/x-python",
   "name": "python",
   "nbconvert_exporter": "python",
   "pygments_lexer": "ipython3",
   "version": "3.12.3"
  }
 },
 "nbformat": 4,
 "nbformat_minor": 4
}
